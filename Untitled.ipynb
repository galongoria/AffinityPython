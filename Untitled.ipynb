{
 "cells": [
  {
   "cell_type": "code",
   "execution_count": 1,
   "id": "f7bef1ca",
   "metadata": {},
   "outputs": [],
   "source": [
    "import os\n",
    "import pandas\n",
    "from affinity import *\n",
    "from bs4 import BeautifulSoup\n",
    "\n",
    "ouput_dir = \"data\"\n"
   ]
  },
  {
   "cell_type": "code",
   "execution_count": 16,
   "id": "a447b897",
   "metadata": {
    "scrolled": true
   },
   "outputs": [
    {
     "data": {
      "text/plain": [
       "[]"
      ]
     },
     "execution_count": 16,
     "metadata": {},
     "output_type": "execute_result"
    }
   ],
   "source": [
    "get_all_list_entries(143999)"
   ]
  },
  {
   "cell_type": "code",
   "execution_count": 6,
   "id": "7d996b70",
   "metadata": {
    "scrolled": false
   },
   "outputs": [
    {
     "data": {
      "text/plain": [
       "{'persons': [{'id': 104866648,\n",
       "   'type': 0,\n",
       "   'first_name': 'Misha',\n",
       "   'last_name': 'Fomytskyi',\n",
       "   'primary_email': 'misha.fomytskyi@voladynamics.com',\n",
       "   'emails': ['misha.fomytskyi@voladynamics.com']},\n",
       "  {'id': 88116111,\n",
       "   'type': 0,\n",
       "   'first_name': 'Misha',\n",
       "   'last_name': 'Alyas',\n",
       "   'primary_email': 'misha@asahitechnologies.com',\n",
       "   'emails': ['misha@asahitechnologies.com']},\n",
       "  {'id': 78864908,\n",
       "   'type': 0,\n",
       "   'first_name': 'Mikhail',\n",
       "   'last_name': 'Malyshev',\n",
       "   'primary_email': 'misha.malyshev@teza.com',\n",
       "   'emails': ['misha.malyshev@teza.com']},\n",
       "  {'id': 77286100,\n",
       "   'type': 0,\n",
       "   'first_name': 'Misha',\n",
       "   'last_name': 'Malyshev',\n",
       "   'primary_email': 'misha@teza.com',\n",
       "   'emails': ['misha@teza.com', 'misha.malyshev@gmail.com']}],\n",
       " 'next_page_token': None}"
      ]
     },
     "execution_count": 6,
     "metadata": {},
     "output_type": "execute_result"
    }
   ],
   "source": [
    "get_persons('Misha',False,False)"
   ]
  },
  {
   "cell_type": "code",
   "execution_count": 9,
   "id": "a60c3ad2",
   "metadata": {},
   "outputs": [
    {
     "data": {
      "text/plain": [
       "{'id': 77286100,\n",
       " 'type': 0,\n",
       " 'first_name': 'Misha',\n",
       " 'last_name': 'Malyshev',\n",
       " 'primary_email': 'misha@teza.com',\n",
       " 'emails': ['misha@teza.com', 'misha.malyshev@gmail.com'],\n",
       " 'organization_ids': [1605548],\n",
       " 'list_entries': [{'id': 37690194,\n",
       "   'list_id': 104173,\n",
       "   'creator_id': 78813762,\n",
       "   'entity_id': 77286100,\n",
       "   'entity_type': 0,\n",
       "   'created_at': '2021-09-15T10:01:08.682-07:00'}]}"
      ]
     },
     "execution_count": 9,
     "metadata": {},
     "output_type": "execute_result"
    }
   ],
   "source": [
    "get_person('77286100')"
   ]
  },
  {
   "cell_type": "code",
   "execution_count": 10,
   "id": "78798668",
   "metadata": {},
   "outputs": [
    {
     "data": {
      "text/plain": [
       "{'id': 104173,\n",
       " 'type': 0,\n",
       " 'name': 'VC',\n",
       " 'public': True,\n",
       " 'owner_id': 77280971,\n",
       " 'list_size': 1761,\n",
       " 'fields': [{'id': 1139202,\n",
       "   'name': 'Status',\n",
       "   'list_id': 104173,\n",
       "   'enrichment_source': 'none',\n",
       "   'value_type': 7,\n",
       "   'allows_multiple': False,\n",
       "   'track_changes': True,\n",
       "   'dropdown_options': [{'id': 4511418, 'text': 'New', 'rank': 1, 'color': 3},\n",
       "    {'id': 4511419, 'text': 'Warm', 'rank': 2, 'color': 5},\n",
       "    {'id': 4511420, 'text': 'Re-Engage', 'rank': 3, 'color': 4},\n",
       "    {'id': 4511417, 'text': 'Not Interested', 'rank': 4, 'color': 0}]},\n",
       "  {'id': 1139204,\n",
       "   'name': 'Owners',\n",
       "   'list_id': 104173,\n",
       "   'enrichment_source': 'none',\n",
       "   'value_type': 0,\n",
       "   'allows_multiple': True,\n",
       "   'track_changes': True,\n",
       "   'dropdown_options': []},\n",
       "  {'id': 1139203,\n",
       "   'name': 'Amount',\n",
       "   'list_id': 104173,\n",
       "   'enrichment_source': 'none',\n",
       "   'value_type': 3,\n",
       "   'allows_multiple': False,\n",
       "   'track_changes': True,\n",
       "   'dropdown_options': []},\n",
       "  {'id': 1139241,\n",
       "   'name': 'Preferred Industry',\n",
       "   'list_id': 104173,\n",
       "   'enrichment_source': 'none',\n",
       "   'value_type': 6,\n",
       "   'allows_multiple': False,\n",
       "   'track_changes': False,\n",
       "   'dropdown_options': []}]}"
      ]
     },
     "execution_count": 10,
     "metadata": {},
     "output_type": "execute_result"
    }
   ],
   "source": [
    "get_list(104173)"
   ]
  },
  {
   "cell_type": "code",
   "execution_count": null,
   "id": "22c61b52",
   "metadata": {},
   "outputs": [],
   "source": []
  }
 ],
 "metadata": {
  "kernelspec": {
   "display_name": "Python 3 (ipykernel)",
   "language": "python",
   "name": "python3"
  },
  "language_info": {
   "codemirror_mode": {
    "name": "ipython",
    "version": 3
   },
   "file_extension": ".py",
   "mimetype": "text/x-python",
   "name": "python",
   "nbconvert_exporter": "python",
   "pygments_lexer": "ipython3",
   "version": "3.10.4"
  }
 },
 "nbformat": 4,
 "nbformat_minor": 5
}
